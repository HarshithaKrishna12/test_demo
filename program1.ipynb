{
 "cells": [
  {
   "cell_type": "code",
   "execution_count": 9,
   "metadata": {},
   "outputs": [
    {
     "name": "stdout",
     "output_type": "stream",
     "text": [
      "{'h': 5.0}\n",
      "Pass\n"
     ]
    },
    {
     "data": {
      "text/plain": [
       "{}"
      ]
     },
     "execution_count": 9,
     "metadata": {},
     "output_type": "execute_result"
    }
   ],
   "source": [
    "def get_student_data():\n",
    "    students = {}\n",
    "    num_students = int(input(\"Enter the number of students: \"))\n",
    "    \n",
    "    for _ in range(num_students):\n",
    "        name = input(\"Enter student's name: \")\n",
    "        grade = float(input(f\"Enter grade for {name}: \"))\n",
    "        students[name] = grade\n",
    "    \n",
    "    return students\n",
    "\n",
    "\n",
    "\n",
    "def determine_pass_fail(students, pass_mark=3.5):\n",
    "    results = {}\n",
    "    for name, grade in students.items():\n",
    "        if grade >= pass_mark:\n",
    "            print(\"Pass\")\n",
    "        else:\n",
    "            print(\"fail\")\n",
    "    return results\n",
    "\n",
    "students = get_student_data()\n",
    "print(students)\n",
    "determine_pass_fail(students)"
   ]
  }
 ],
 "metadata": {
  "kernelspec": {
   "display_name": "Python 3",
   "language": "python",
   "name": "python3"
  },
  "language_info": {
   "codemirror_mode": {
    "name": "ipython",
    "version": 3
   },
   "file_extension": ".py",
   "mimetype": "text/x-python",
   "name": "python",
   "nbconvert_exporter": "python",
   "pygments_lexer": "ipython3",
   "version": "3.12.1"
  }
 },
 "nbformat": 4,
 "nbformat_minor": 2
}
